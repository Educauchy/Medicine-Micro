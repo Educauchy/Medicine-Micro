{
 "cells": [
  {
   "cell_type": "code",
   "execution_count": 106,
   "metadata": {},
   "outputs": [],
   "source": [
    "import pandas as pd\n",
    "import numpy as np\n",
    "import seaborn as sns\n",
    "import matplotlib.pyplot as plt\n",
    "import scipy\n",
    "from matplotlib.pyplot import savefig, figure\n",
    "from itertools import combinations"
   ]
  },
  {
   "cell_type": "markdown",
   "metadata": {},
   "source": [
    "## Стили"
   ]
  },
  {
   "cell_type": "code",
   "execution_count": 107,
   "metadata": {},
   "outputs": [],
   "source": [
    "sns.set_style({'font.family':'serif', 'font.serif':'Times New Roman'})\n",
    "font_size = 30\n",
    "rc={'axes.labelsize': font_size, 'font.size': font_size, 'legend.fontsize': font_size, 'axes.titlesize': font_size}\n",
    "plt.rcParams.update(**rc)\n",
    "media_dir = 'Media/'"
   ]
  },
  {
   "cell_type": "markdown",
   "metadata": {},
   "source": [
    "## Функции"
   ]
  },
  {
   "cell_type": "code",
   "execution_count": 108,
   "metadata": {},
   "outputs": [],
   "source": [
    "def show_colonies(type):\n",
    "    plt.figure(figsize=(20, 10))\n",
    "\n",
    "    KA = data.loc[data.Type == type, :].Colony_KA_37\n",
    "    plt.hist(KA, label = 'КА')\n",
    "    plt.axvline(KA.median(), color='w', linestyle='dashed', linewidth=2)\n",
    "    \n",
    "    UriSelect = data.loc[data.Type == type, :].Colony_UriSelect_37\n",
    "    plt.hist(UriSelect, label = 'UriSelect')\n",
    "    plt.axvline(UriSelect.median(), color='r', linestyle='dashed', linewidth=2)\n",
    "    \n",
    "    plt.legend(loc=\"upper left\")\n",
    "    plt.savefig(media_dir + 'colonies_' + str(type))\n",
    "    plt.close()\n",
    "\n",
    "for type in types:\n",
    "    show_colonies(type)"
   ]
  },
  {
   "cell_type": "code",
   "execution_count": 109,
   "metadata": {},
   "outputs": [],
   "source": [
    "def compare_colony_medians(type, group = None):\n",
    "    group = group if group else range(0, 1000)\n",
    "    KA = data.loc[(data.Type == type) & (data.Colony_KA_37.isin(group)), :].Colony_KA_37\n",
    "    UriSelect = data.loc[(data.Type == type) & (data.Colony_UriSelect_37.isin(group)), :].Colony_UriSelect_37\n",
    "    U = scipy.stats.mannwhitneyu(KA, UriSelect)\n",
    "    inference = 'Значимо отличаются' if U[1] < 0.05 else 'Значимо НЕ отличаются'\n",
    "    group_desc = '' if group[-1] == 999 else 'Группа ' + str(group[0])\n",
    "    return (type, group_desc, U, inference)"
   ]
  },
  {
   "cell_type": "code",
   "execution_count": 110,
   "metadata": {},
   "outputs": [],
   "source": [
    "def compare_colony_group_medians(type):\n",
    "    groups = [range(0, 50), range(50, 70), range(70, 1000)]\n",
    "    ans = []\n",
    "    for group in groups:\n",
    "        ans.append(compare_colony_medians(type, group))\n",
    "    return ans"
   ]
  },
  {
   "cell_type": "code",
   "execution_count": 111,
   "metadata": {},
   "outputs": [],
   "source": [
    "def compare_37_degrees(type):\n",
    "    d = data.loc[data.Type == type]\n",
    "    kw = scipy.stats.kruskal(d.Days_KA_37,\n",
    "                              d.Days_UriSelect_37,\n",
    "                              d.Days_LY_37)\n",
    "    inference = 'Значимо отличаются' if kw[1] < 0.05 else 'Значимо НЕ отличаются'\n",
    "\n",
    "    return (type, kw, inference)"
   ]
  },
  {
   "cell_type": "code",
   "execution_count": 112,
   "metadata": {},
   "outputs": [],
   "source": [
    "def compare_uriselect_28_37(type):\n",
    "    d = data.loc[data.Type == type]\n",
    "    U = scipy.stats.mannwhitneyu(d.Days_UriSelect_28, d.Days_UriSelect_37)\n",
    "    inference = 'Значимо отличаются' if U[1] < 0.05 else 'Значимо НЕ отличаются'\n",
    "    return (type, U, inference)"
   ]
  },
  {
   "cell_type": "code",
   "execution_count": 113,
   "metadata": {},
   "outputs": [],
   "source": [
    "def group_median(type):\n",
    "    groups = [range(0, 50), range(50, 70), range(70, 1000)]\n",
    "    KA = []\n",
    "    UriSelect = []\n",
    "    for group in groups:\n",
    "        KA_ = data.loc[(data.Type == type) & (data.Colony_KA_37.isin(group)), :].Colony_KA_37\n",
    "        UriSelect_ = data.loc[(data.Type == type) & (data.Colony_UriSelect_37.isin(group)), :].Colony_UriSelect_37\n",
    "        KA.append(np.median(KA_))\n",
    "        UriSelect.append(np.median(UriSelect_))\n",
    "    return (KA, UriSelect)"
   ]
  },
  {
   "cell_type": "markdown",
   "metadata": {},
   "source": [
    "## Данные"
   ]
  },
  {
   "cell_type": "code",
   "execution_count": 114,
   "metadata": {},
   "outputs": [
    {
     "data": {
      "text/html": [
       "<div>\n",
       "<style scoped>\n",
       "    .dataframe tbody tr th:only-of-type {\n",
       "        vertical-align: middle;\n",
       "    }\n",
       "\n",
       "    .dataframe tbody tr th {\n",
       "        vertical-align: top;\n",
       "    }\n",
       "\n",
       "    .dataframe thead th {\n",
       "        text-align: right;\n",
       "    }\n",
       "</style>\n",
       "<table border=\"1\" class=\"dataframe\">\n",
       "  <thead>\n",
       "    <tr style=\"text-align: right;\">\n",
       "      <th></th>\n",
       "      <th>Colony_KA_37</th>\n",
       "      <th>Colony_UriSelect_37</th>\n",
       "      <th>Days_KA_37</th>\n",
       "      <th>Days_UriSelect_37</th>\n",
       "      <th>Days_LY_37</th>\n",
       "      <th>Days_UriSelect_28</th>\n",
       "      <th>Type</th>\n",
       "    </tr>\n",
       "  </thead>\n",
       "  <tbody>\n",
       "    <tr>\n",
       "      <td>0</td>\n",
       "      <td>70.0</td>\n",
       "      <td>100.0</td>\n",
       "      <td>21.0</td>\n",
       "      <td>17.0</td>\n",
       "      <td>15</td>\n",
       "      <td>16.0</td>\n",
       "      <td>avium</td>\n",
       "    </tr>\n",
       "    <tr>\n",
       "      <td>1</td>\n",
       "      <td>88.0</td>\n",
       "      <td>95.0</td>\n",
       "      <td>22.0</td>\n",
       "      <td>14.0</td>\n",
       "      <td>12</td>\n",
       "      <td>14.0</td>\n",
       "      <td>avium</td>\n",
       "    </tr>\n",
       "    <tr>\n",
       "      <td>2</td>\n",
       "      <td>81.0</td>\n",
       "      <td>94.0</td>\n",
       "      <td>18.0</td>\n",
       "      <td>12.0</td>\n",
       "      <td>13</td>\n",
       "      <td>14.0</td>\n",
       "      <td>avium</td>\n",
       "    </tr>\n",
       "    <tr>\n",
       "      <td>3</td>\n",
       "      <td>90.0</td>\n",
       "      <td>98.0</td>\n",
       "      <td>12.0</td>\n",
       "      <td>11.0</td>\n",
       "      <td>10</td>\n",
       "      <td>9.0</td>\n",
       "      <td>avium</td>\n",
       "    </tr>\n",
       "    <tr>\n",
       "      <td>4</td>\n",
       "      <td>87.0</td>\n",
       "      <td>96.0</td>\n",
       "      <td>10.0</td>\n",
       "      <td>6.0</td>\n",
       "      <td>8</td>\n",
       "      <td>7.0</td>\n",
       "      <td>avium</td>\n",
       "    </tr>\n",
       "  </tbody>\n",
       "</table>\n",
       "</div>"
      ],
      "text/plain": [
       "   Colony_KA_37  Colony_UriSelect_37  Days_KA_37  Days_UriSelect_37  \\\n",
       "0          70.0                100.0        21.0               17.0   \n",
       "1          88.0                 95.0        22.0               14.0   \n",
       "2          81.0                 94.0        18.0               12.0   \n",
       "3          90.0                 98.0        12.0               11.0   \n",
       "4          87.0                 96.0        10.0                6.0   \n",
       "\n",
       "   Days_LY_37  Days_UriSelect_28   Type  \n",
       "0          15               16.0  avium  \n",
       "1          12               14.0  avium  \n",
       "2          13               14.0  avium  \n",
       "3          10                9.0  avium  \n",
       "4           8                7.0  avium  "
      ]
     },
     "execution_count": 114,
     "metadata": {},
     "output_type": "execute_result"
    }
   ],
   "source": [
    "data = pd.read_excel('Days_Temperature.xlsx')\n",
    "types = data.Type.unique()\n",
    "data.Type = data.Type.str.strip()\n",
    "data.head()"
   ]
  },
  {
   "cell_type": "markdown",
   "metadata": {},
   "source": [
    "## Рассчитать достоверны ли различия между количеством колоний на КА и UriSelect"
   ]
  },
  {
   "cell_type": "code",
   "execution_count": 115,
   "metadata": {},
   "outputs": [
    {
     "name": "stdout",
     "output_type": "stream",
     "text": [
      "('avium', '', MannwhitneyuResult(statistic=825.0, pvalue=2.910122447375852e-13), 'Значимо отличаются')\n",
      "('kansasii', '', MannwhitneyuResult(statistic=514.5, pvalue=0.0012624058261079896), 'Значимо отличаются')\n",
      "('gordonae', '', MannwhitneyuResult(statistic=307.0, pvalue=3.978022962094956e-14), 'Значимо отличаются')\n",
      "('fortuitum', '', MannwhitneyuResult(statistic=330.0, pvalue=0.00043614432224726914), 'Значимо отличаются')\n",
      "('peregrinum', '', MannwhitneyuResult(statistic=49.0, pvalue=0.09457449454423805), 'Значимо НЕ отличаются')\n",
      "('abscessus', '', MannwhitneyuResult(statistic=21.5, pvalue=0.001873271824814753), 'Значимо отличаются')\n",
      "('septicum', '', MannwhitneyuResult(statistic=8.0, pvalue=0.000812577018631045), 'Значимо отличаются')\n"
     ]
    }
   ],
   "source": [
    "for typ in types:\n",
    "    show_colonies(typ)\n",
    "    print(compare_colony_medians(typ))"
   ]
  },
  {
   "cell_type": "markdown",
   "metadata": {},
   "source": [
    "## Расчитать число культур с количеством колоний 50 и менее, 50-69, более 70 и сравнить достоверны ли по ним различия для двух сред"
   ]
  },
  {
   "cell_type": "code",
   "execution_count": 116,
   "metadata": {},
   "outputs": [
    {
     "name": "stdout",
     "output_type": "stream",
     "text": [
      "('avium', 'Группа 0', MannwhitneyuResult(statistic=0.0, pvalue=0.0), 'Значимо отличаются')\n",
      "('avium', 'Группа 50', MannwhitneyuResult(statistic=3.0, pvalue=0.0953839693435643), 'Значимо НЕ отличаются')\n",
      "('avium', '', MannwhitneyuResult(statistic=706.0, pvalue=7.162140778958471e-11), 'Значимо отличаются')\n",
      "\n",
      "('kansasii', 'Группа 0', MannwhitneyuResult(statistic=0.0, pvalue=0.0), 'Значимо отличаются')\n",
      "('kansasii', 'Группа 50', MannwhitneyuResult(statistic=9.5, pvalue=0.30422879204362396), 'Значимо НЕ отличаются')\n",
      "('kansasii', '', MannwhitneyuResult(statistic=449.0, pvalue=0.10974163013428062), 'Значимо НЕ отличаются')\n",
      "\n",
      "('gordonae', 'Группа 0', MannwhitneyuResult(statistic=0.0, pvalue=0.0), 'Значимо отличаются')\n",
      "('gordonae', 'Группа 50', MannwhitneyuResult(statistic=0.0, pvalue=0.0), 'Значимо отличаются')\n",
      "('gordonae', '', MannwhitneyuResult(statistic=307.0, pvalue=8.28814506420473e-13), 'Значимо отличаются')\n",
      "\n",
      "('fortuitum', 'Группа 0', MannwhitneyuResult(statistic=0.0, pvalue=0.0), 'Значимо отличаются')\n",
      "('fortuitum', 'Группа 50', MannwhitneyuResult(statistic=0.0, pvalue=0.0), 'Значимо отличаются')\n",
      "('fortuitum', '', MannwhitneyuResult(statistic=330.0, pvalue=0.00043614432224726914), 'Значимо отличаются')\n",
      "\n",
      "('peregrinum', 'Группа 0', MannwhitneyuResult(statistic=0.0, pvalue=0.0), 'Значимо отличаются')\n",
      "('peregrinum', 'Группа 50', MannwhitneyuResult(statistic=0.0, pvalue=0.0), 'Значимо отличаются')\n",
      "('peregrinum', '', MannwhitneyuResult(statistic=49.0, pvalue=0.09457449454423805), 'Значимо НЕ отличаются')\n",
      "\n",
      "('abscessus', 'Группа 0', MannwhitneyuResult(statistic=0.0, pvalue=0.0), 'Значимо отличаются')\n",
      "('abscessus', 'Группа 50', MannwhitneyuResult(statistic=0.0, pvalue=0.0), 'Значимо отличаются')\n",
      "('abscessus', '', MannwhitneyuResult(statistic=21.5, pvalue=0.001873271824814753), 'Значимо отличаются')\n",
      "\n",
      "('septicum', 'Группа 0', MannwhitneyuResult(statistic=0.0, pvalue=0.0), 'Значимо отличаются')\n",
      "('septicum', 'Группа 50', MannwhitneyuResult(statistic=0.0, pvalue=0.0), 'Значимо отличаются')\n",
      "('septicum', '', MannwhitneyuResult(statistic=8.0, pvalue=0.000812577018631045), 'Значимо отличаются')\n",
      "\n"
     ]
    }
   ],
   "source": [
    "for typ in types:\n",
    "    for result in compare_colony_group_medians(typ):\n",
    "        print(result)\n",
    "    print('')"
   ]
  },
  {
   "cell_type": "markdown",
   "metadata": {},
   "source": [
    "## Рассчитать достоверны ли различия между временем появления роста на 3 средах при 37 градусах"
   ]
  },
  {
   "cell_type": "code",
   "execution_count": 117,
   "metadata": {},
   "outputs": [
    {
     "name": "stdout",
     "output_type": "stream",
     "text": [
      "('avium', KruskalResult(statistic=nan, pvalue=nan), 'Значимо НЕ отличаются')\n",
      "('kansasii', KruskalResult(statistic=23.70078264490382, pvalue=7.135763375837727e-06), 'Значимо отличаются')\n",
      "('gordonae', KruskalResult(statistic=nan, pvalue=nan), 'Значимо НЕ отличаются')\n",
      "('fortuitum', KruskalResult(statistic=0.9106383134243874, pvalue=0.634245511930037), 'Значимо НЕ отличаются')\n",
      "('peregrinum', KruskalResult(statistic=0.5478946550652627, pvalue=0.7603721248820525), 'Значимо НЕ отличаются')\n",
      "('abscessus', KruskalResult(statistic=0.29111479028697024, pvalue=0.8645402682371968), 'Значимо НЕ отличаются')\n",
      "('septicum', KruskalResult(statistic=1.3121449275362234, pvalue=0.5188852784140833), 'Значимо НЕ отличаются')\n"
     ]
    }
   ],
   "source": [
    "for typ in types:\n",
    "    print(compare_37_degrees(typ))"
   ]
  },
  {
   "cell_type": "markdown",
   "metadata": {},
   "source": [
    "## Рассчитать достоверно ли различие между временем появления роста на среде UriSelect при 37 и 28 градусах"
   ]
  },
  {
   "cell_type": "code",
   "execution_count": 118,
   "metadata": {},
   "outputs": [
    {
     "name": "stdout",
     "output_type": "stream",
     "text": [
      "('avium', MannwhitneyuResult(statistic=3413.0, pvalue=0.26727219600986724), 'Значимо НЕ отличаются')\n",
      "('kansasii', MannwhitneyuResult(statistic=825.0, pvalue=0.44383300814913973), 'Значимо НЕ отличаются')\n",
      "('gordonae', MannwhitneyuResult(statistic=1374.0, pvalue=0.01168672984715223), 'Значимо отличаются')\n",
      "('fortuitum', MannwhitneyuResult(statistic=477.0, pvalue=0.027893353550145796), 'Значимо отличаются')\n",
      "('peregrinum', MannwhitneyuResult(statistic=36.0, pvalue=0.008238976051867271), 'Значимо отличаются')\n",
      "('abscessus', MannwhitneyuResult(statistic=42.0, pvalue=0.021208748481981756), 'Значимо отличаются')\n",
      "('septicum', MannwhitneyuResult(statistic=50.0, pvalue=0.48103366025522115), 'Значимо НЕ отличаются')\n"
     ]
    }
   ],
   "source": [
    "for typ in types:\n",
    "    print(compare_uriselect_28_37(typ))"
   ]
  },
  {
   "cell_type": "markdown",
   "metadata": {},
   "source": [
    "## Медианы для групп"
   ]
  },
  {
   "cell_type": "code",
   "execution_count": 119,
   "metadata": {},
   "outputs": [
    {
     "name": "stdout",
     "output_type": "stream",
     "text": [
      "avium ([46.5, 56.0, 83.0], [nan, 64.5, 94.0])\n",
      "\n",
      "kansasii ([nan, 59.0, 83.5], [nan, 62.0, 85.0])\n",
      "\n",
      "gordonae ([nan, 66.5, 81.0], [nan, nan, 92.0])\n",
      "\n",
      "fortuitum ([nan, nan, 90.0], [nan, nan, 94.0])\n",
      "\n",
      "peregrinum ([nan, nan, 91.0], [nan, nan, 94.0])\n",
      "\n",
      "abscessus ([nan, nan, 89.5], [nan, nan, 94.0])\n",
      "\n",
      "septicum ([nan, nan, 91.0], [nan, nan, 95.5])\n",
      "\n"
     ]
    }
   ],
   "source": [
    "for typ in types:\n",
    "    print(typ, group_median(typ))\n",
    "    print('')"
   ]
  },
  {
   "cell_type": "code",
   "execution_count": null,
   "metadata": {},
   "outputs": [],
   "source": []
  }
 ],
 "metadata": {
  "kernelspec": {
   "display_name": "Python 3",
   "language": "python",
   "name": "python3"
  },
  "language_info": {
   "codemirror_mode": {
    "name": "ipython",
    "version": 3
   },
   "file_extension": ".py",
   "mimetype": "text/x-python",
   "name": "python",
   "nbconvert_exporter": "python",
   "pygments_lexer": "ipython3",
   "version": "3.7.4"
  }
 },
 "nbformat": 4,
 "nbformat_minor": 2
}
